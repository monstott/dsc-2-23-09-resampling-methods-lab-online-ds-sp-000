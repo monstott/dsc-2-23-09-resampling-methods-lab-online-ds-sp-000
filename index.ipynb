{
 "cells": [
  {
   "cell_type": "markdown",
   "metadata": {},
   "source": [
    "# Resampling Methods - Lab\n",
    "\n",
    "## Introduction\n",
    "\n",
    "Now that you have some preliminary background on bootstrapping, jacknife and permutation tests, its time to practice those skills by coding them into functions. You'll then apply these tests to a hypothesis test and compare the results to a parametric t-test.\n",
    "\n",
    "## Objectives\n",
    "\n",
    "You will be able to:\n",
    "* Understand permutation testing\n",
    "* Understand what jacknife is\n",
    "* Understand what bootstrapping is"
   ]
  },
  {
   "cell_type": "markdown",
   "metadata": {},
   "source": [
    "## Bootstrapping\n",
    "\n",
    "Write a function that takes a sample and generates n additional samples of the same size using bootstrapping. (Recall that bootstrapping creates additional sets by sampling with replacement.)"
   ]
  },
  {
   "cell_type": "code",
   "execution_count": 1,
   "metadata": {},
   "outputs": [],
   "source": [
    "import numpy as np\n",
    "\n",
    "def bootstrap(sample, n):\n",
    "    #Your code here\n",
    "    return np.random.choice(sample, size=len(sample), replace=True)    "
   ]
  },
  {
   "cell_type": "markdown",
   "metadata": {},
   "source": [
    "## Jacknife \n",
    "\n",
    "Write a function that creates additional samples by removing one element at a time. The function should do this for each of the n items in the original sample, returning n samples, each with n-1 members."
   ]
  },
  {
   "cell_type": "code",
   "execution_count": 5,
   "metadata": {},
   "outputs": [],
   "source": [
    "def jack1(sample):\n",
    "    \"\"\"This function should take in a list of n observations and return n lists\n",
    "        each with one member (presumably the nth) removed.\"\"\"\n",
    "    # Your code here\n",
    "    samples = []\n",
    "    for i in range(len(sample)):\n",
    "        add_sample = sample[:i] + sample[i+1:]\n",
    "        samples.append(add_sample)\n",
    "    return samples"
   ]
  },
  {
   "cell_type": "markdown",
   "metadata": {},
   "source": [
    "## Permutation Testing\n",
    "\n",
    "Define a function that generate all possible, equally sized, two set splits of two sets A and B. Sets A and B need not be the same size, but all of the generate two set splits should be of equal size. For example, if we had a set with 5 members and a set with 7 members, the function would return all possible 5-7 splits of the 12 items. \n",
    "\n",
    "\n",
    "Here's a more in depth example:  \n",
    "```A = [1,2,2]\n",
    "B = [1,3]\n",
    "permT(A, B) = [\n",
    "                ([1,2,2], [1,3]),\n",
    "                ([1,2,3], [1,2]),\n",
    "                ([1,2,1], [2,3])\n",
    "                ([1,1,3], [2,2]),\n",
    "                ([2,2,3], [1,1])\n",
    "              ]```  \n",
    "These are all the possible 3-2 member splits of the 5 elements : 1,1,2,2,3."
   ]
  },
  {
   "cell_type": "code",
   "execution_count": 18,
   "metadata": {},
   "outputs": [],
   "source": [
    "def permT(a,b):\n",
    "    # Your code here\n",
    "    union = a + b\n",
    "    a_new = list(itertools.combinations(union, len(a)))\n",
    "    b_new = []\n",
    "    for a_item in a_new:\n",
    "        u_copy = union.copy()\n",
    "        for a in a_item:\n",
    "            u_copy.remove(a)\n",
    "        b_new.append(u_copy)\n",
    "    return list(zip(a_new, b_new))    "
   ]
  },
  {
   "cell_type": "markdown",
   "metadata": {},
   "source": [
    "## Permutation Testing in Practice\n",
    "Let's further investigate the scenario proposed in the previous lesson. Below are two samples A and B. The samples are mock data for the blood pressure of sample patients. The research study is looking to validate whether there is a statistical difference in the blood pressure of these two groups using a 5% signifincance level.  First, calculate the mean blood pressure of each of the two samples. Then, calculate the difference of these means. From there, use your `permT()` function, defined above, to generate all the possible combinations of the entrie sample data into A-B splits of equivalent sizes as the original sets. For each of these combinations, calculate the mean blood pressure of the two groups and record the difference between these sample means. The full collection of the difference in means between these generated samples will serve as the denominator to calculate the p-value associated with the difference between the original sample means.\n",
    "\n",
    "For example, in our small handwritten example above:\n",
    "\n",
    "$\\mu_a = \\frac{1+2+2}{3} = \\frac{5}{3}$  \n",
    "and  \n",
    "$\\mu_b = \\frac{1+3}{2} = \\frac{4}{2} = 2$  \n",
    "\n",
    "Giving us\n",
    "\n",
    "$\\mu_a - \\mu_b = \\frac{5}{3} - 2 = \\frac{1}{2}$\n",
    "\n",
    "In comparison, for our various combinations we have:\n",
    "\n",
    "([1,2,2], [1,3]):  $\\mu_a - \\mu_b = \\frac{5}{3} - 2 = \\frac{1}{2}$  \n",
    "([1,2,3], [1,2]):  $\\mu_a - \\mu_b = 2 - \\frac{3}{2} = \\frac{1}{2}$  \n",
    "([1,2,1], [2,3]):  $\\mu_a - \\mu_b = \\frac{4}{3} - \\frac{5}{3} = -\\frac{1}{2}$  \n",
    "([1,1,3], [2,2]):  $\\mu_a - \\mu_b = \\frac{5}{3} - 2 = \\frac{1}{2}$  \n",
    "([2,2,3], [1,1]):  $\\mu_a - \\mu_b = \\frac{7}{3} - 1 = \\frac{4}{3}$  \n",
    "\n",
    "A standard hypothesis test for this scenario might be:\n",
    "\n",
    "$h_0: \\mu_a = \\mu_b$  \n",
    "$h_1: \\mu_a < \\mu_b$  \n",
    "  \n",
    "Thus comparing our sample difference to the differences of our possible combinations, we look at the number of experiments from our permutation space that were the same or greater then our sample statistic, divided by the total number of permutations. In this case, 4 out of 5 of the permutation cases produced the same or greater differences in the two sample means. This value .8 is a strong indication that we cannot refute the null hypothesis for this instance.\n",
    "\n"
   ]
  },
  {
   "cell_type": "code",
   "execution_count": 16,
   "metadata": {},
   "outputs": [],
   "source": [
    "a = [1,2,2]\n",
    "b = [1,3]"
   ]
  },
  {
   "cell_type": "code",
   "execution_count": 17,
   "metadata": {},
   "outputs": [
    {
     "name": "stdout",
     "output_type": "stream",
     "text": [
      "Number of Items: 5 , Sample Size: 3\n",
      "Number of Combinations: 10.0\n"
     ]
    }
   ],
   "source": [
    "# Your code here\n",
    "from scipy.special import comb\n",
    "n_items = len(a)+len(b)\n",
    "n_unique = len(set(a+b))\n",
    "sample_size = len(a)\n",
    "\n",
    "print('Number of Items:', n_items, ', Sample Size:', sample_size)\n",
    "print('Number of Combinations:', comb(n_items, sample_size))"
   ]
  },
  {
   "cell_type": "code",
   "execution_count": 22,
   "metadata": {},
   "outputs": [
    {
     "name": "stdout",
     "output_type": "stream",
     "text": [
      "Number of Sample Variations = 10\n",
      "P-value = 0.8\n"
     ]
    }
   ],
   "source": [
    "import itertools\n",
    "diff_mean_ab = np.mean(a) - np.mean(b)\n",
    "combos = permT(a, b)\n",
    "print(\"Number of Sample Variations = {}\".format(len(combos)))\n",
    "num = 0 \n",
    "for a_i, b_i in combos:\n",
    "    diff_mean_ab_i = np.mean(a_i) - np.mean(b_i)\n",
    "    if diff_mean_ab_i >= diff_mean_ab:\n",
    "        num +=1\n",
    "p_value = num / len(combos)\n",
    "print('P-value = {}'.format(p_value))"
   ]
  },
  {
   "cell_type": "markdown",
   "metadata": {},
   "source": [
    "## T-test Revisited\n",
    "\n",
    "The parameteric statistical test equivalent to our permutation test above would be a t-test of the two groups. Perform a t-test on the same data above in order to calculate the p-value. How does this compare to the above results?"
   ]
  },
  {
   "cell_type": "code",
   "execution_count": 23,
   "metadata": {},
   "outputs": [
    {
     "name": "stdout",
     "output_type": "stream",
     "text": [
      "0.25398917200092225\n"
     ]
    }
   ],
   "source": [
    "# Your code here\n",
    "import scipy.stats as stats\n",
    "num = np.mean(a) - np.mean(b)\n",
    "std = np.var(a+b)\n",
    "n = len(a + b)\n",
    "denom = std / np.sqrt(n)\n",
    "t = num / denom\n",
    "p_value = stats.t.sf(np.abs(t), n-1)*2\n",
    "print(p_value)\n",
    "# The P-value of the T-Test is also above 0.05 causing us to fail to reject the Null Hypothesis that the means are different.\n",
    "# However, it is not as high as the Permutation Testing in Practice."
   ]
  },
  {
   "cell_type": "markdown",
   "metadata": {},
   "source": [
    "## Bootstrap Applied\n",
    "\n",
    "Use your code above to apply the bootstrap technique to this hypothesis testing scenario. In other words, similar to the permutation testing you performed above, compute additional samples (arbitrarily let's say 1000) of the same size as the original sample, with replacement. For each of these additional samples, compute whether the difference in sample means is the same or greater then that of the original samples. Use this to calculate an overall p-value for the null hypothesis."
   ]
  },
  {
   "cell_type": "code",
   "execution_count": 24,
   "metadata": {},
   "outputs": [
    {
     "name": "stdout",
     "output_type": "stream",
     "text": [
      "P-value = 0.645\n"
     ]
    }
   ],
   "source": [
    "# Your code here\n",
    "iterations = 10**3\n",
    "diff_mean_ab = np.mean(a) - np.mean(b)\n",
    "num = 0\n",
    "for n in range(iterations):\n",
    "    a_i = bootstrap(a, len(a))\n",
    "    b_i = bootstrap(b, len(b))\n",
    "    diff_mean_ab_i = np.mean(a_i) - np.mean(b_i)\n",
    "    if diff_mean_ab_i >= diff_mean_ab:\n",
    "        num +=1\n",
    "p_value = num / iterations\n",
    "print('P-value = {}'.format(p_value))"
   ]
  },
  {
   "cell_type": "markdown",
   "metadata": {},
   "source": [
    "## Summary\n",
    "\n",
    "Well done! In this lab you practice coding modern statistical resampling techniques of the 20th century! You also started to compare these non-parametric methods to other parametric methods such as the t-test that we previously discussed."
   ]
  }
 ],
 "metadata": {
  "kernelspec": {
   "display_name": "Python 3",
   "language": "python",
   "name": "python3"
  },
  "language_info": {
   "codemirror_mode": {
    "name": "ipython",
    "version": 3
   },
   "file_extension": ".py",
   "mimetype": "text/x-python",
   "name": "python",
   "nbconvert_exporter": "python",
   "pygments_lexer": "ipython3",
   "version": "3.6.6"
  }
 },
 "nbformat": 4,
 "nbformat_minor": 2
}
